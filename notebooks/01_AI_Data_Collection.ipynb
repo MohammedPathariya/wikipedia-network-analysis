{
 "cells": [
  {
   "cell_type": "code",
   "execution_count": 1,
   "id": "1c02f3b0-00e9-40c5-8362-9b7bc22ce36b",
   "metadata": {},
   "outputs": [
    {
     "name": "stdout",
     "output_type": "stream",
     "text": [
      "Libraries imported successfully.\n"
     ]
    }
   ],
   "source": [
    "# ==============================================================================\n",
    "# Cell 1: Import Libraries\n",
    "# ==============================================================================\n",
    "import wikipediaapi\n",
    "import pandas as pd\n",
    "import os\n",
    "\n",
    "print(\"Libraries imported successfully.\")"
   ]
  },
  {
   "cell_type": "code",
   "execution_count": 2,
   "id": "7ee05b09-0c66-48ef-a00c-c8bc3f955d1f",
   "metadata": {},
   "outputs": [
    {
     "name": "stdout",
     "output_type": "stream",
     "text": [
      "Seed Topic: Artificial_intelligence\n",
      "Data will be saved to: ../data/Artificial_intelligence_edges.csv\n"
     ]
    }
   ],
   "source": [
    "# ==============================================================================\n",
    "# Cell 2: Configuration - SET YOUR TOPIC HERE\n",
    "# ==============================================================================\n",
    "# --- CONFIGURATION ---\n",
    "# To analyze a different topic, change the variable below.\n",
    "# Note: Use the exact title from the Wikipedia URL (e.g., 'Artificial_intelligence', 'Data_science').\n",
    "SEED_TOPIC = 'Artificial_intelligence'\n",
    "\n",
    "# Define the path to save our data file\n",
    "OUTPUT_FOLDER = '../data'\n",
    "FILE_NAME = f'{SEED_TOPIC}_edges.csv'\n",
    "OUTPUT_PATH = os.path.join(OUTPUT_FOLDER, FILE_NAME)\n",
    "\n",
    "# Create the data directory if it doesn't exist\n",
    "os.makedirs(OUTPUT_FOLDER, exist_ok=True)\n",
    "\n",
    "\n",
    "print(f\"Seed Topic: {SEED_TOPIC}\")\n",
    "print(f\"Data will be saved to: {OUTPUT_PATH}\")"
   ]
  },
  {
   "cell_type": "code",
   "execution_count": 3,
   "id": "794f8976-4046-43c1-bb8a-c8eb379473b7",
   "metadata": {},
   "outputs": [
    {
     "name": "stdout",
     "output_type": "stream",
     "text": [
      "\n",
      "Wikipedia API client initialized.\n"
     ]
    }
   ],
   "source": [
    "# ==============================================================================\n",
    "# Cell 3: Initialize the Wikipedia API\n",
    "# ==============================================================================\n",
    "# Initialize the Wikipedia API with a custom user agent\n",
    "# This is a good practice to identify your script to Wikipedia's servers.\n",
    "wiki_api = wikipediaapi.Wikipedia(\n",
    "    language='en',\n",
    "    user_agent='MyNetworkAnalysisProject/1.0 (pathmohd123@gmail.com)'\n",
    ")\n",
    "\n",
    "print(\"\\nWikipedia API client initialized.\")"
   ]
  },
  {
   "cell_type": "code",
   "execution_count": 4,
   "id": "7877db7b-787e-4341-a753-7d032990c4ed",
   "metadata": {},
   "outputs": [
    {
     "name": "stdout",
     "output_type": "stream",
     "text": [
      "\n",
      "Fetching Wikipedia page for 'Artificial_intelligence'...\n",
      "Page found: 'Artificial intelligence'\n",
      "Successfully collected 1881 links.\n"
     ]
    }
   ],
   "source": [
    "# ==============================================================================\n",
    "# Cell 4: Fetch Links from the Seed Article\n",
    "# ==============================================================================\n",
    "print(f\"\\nFetching Wikipedia page for '{SEED_TOPIC}'...\")\n",
    "\n",
    "# 1. Get the Wikipedia page object\n",
    "page = wiki_api.page(SEED_TOPIC)\n",
    "\n",
    "edge_list = []\n",
    "\n",
    "# 2. Check if the page exists\n",
    "if not page.exists():\n",
    "    print(f\"Error: The page '{SEED_TOPIC}' does not exist on English Wikipedia.\")\n",
    "else:\n",
    "    print(f\"Page found: '{page.title}'\")\n",
    "    \n",
    "    # 3. Get all the unique links from the page\n",
    "    links = page.links\n",
    "    \n",
    "    # 4. Create a list of edge pairs (source, target)\n",
    "    for link_title, link_page in links.items():\n",
    "        # We can add a filter here if we want, but for now, we'll take all links.\n",
    "        # For example, to avoid special pages: if \":\" not in link_title:\n",
    "        edge_list.append((SEED_TOPIC, link_title))\n",
    "        \n",
    "    print(f\"Successfully collected {len(edge_list)} links.\")"
   ]
  },
  {
   "cell_type": "code",
   "execution_count": 5,
   "id": "beb30ac3-b076-4ecc-9cfe-2fbf6b5fa93d",
   "metadata": {},
   "outputs": [
    {
     "name": "stdout",
     "output_type": "stream",
     "text": [
      "\n",
      "Data saved successfully to ../data/Artificial_intelligence_edges.csv\n",
      "\n",
      "--- First 5 links ---\n",
      "                    source                         target\n",
      "0  Artificial_intelligence                          15.ai\n",
      "1  Artificial_intelligence          2001: A Space Odyssey\n",
      "2  Artificial_intelligence  2001: A Space Odyssey (novel)\n",
      "3  Artificial_intelligence   2024 Indian general election\n",
      "4  Artificial_intelligence        3D optical data storage\n"
     ]
    }
   ],
   "source": [
    "# ==============================================================================\n",
    "# Cell 5: Save the Data to a CSV File\n",
    "# ==============================================================================\n",
    "# Convert the list to a pandas DataFrame and save it\n",
    "if not edge_list:\n",
    "    print(\"\\nNo links were found, so no data was saved.\")\n",
    "else:\n",
    "    # Create the DataFrame\n",
    "    df_edges = pd.DataFrame(edge_list, columns=['source', 'target'])\n",
    "    \n",
    "    # Save the DataFrame to a CSV file\n",
    "    df_edges.to_csv(OUTPUT_PATH, index=False)\n",
    "    \n",
    "    print(f\"\\nData saved successfully to {OUTPUT_PATH}\")\n",
    "    \n",
    "    # Display the first 5 rows of the created file\n",
    "    print(\"\\n--- First 5 links ---\")\n",
    "    print(df_edges.head())"
   ]
  },
  {
   "cell_type": "code",
   "execution_count": null,
   "id": "c5f2899d-2c50-4f8f-9cca-7d066a6b3ba9",
   "metadata": {},
   "outputs": [],
   "source": []
  }
 ],
 "metadata": {
  "kernelspec": {
   "display_name": "Python 3 (ipykernel)",
   "language": "python",
   "name": "python3"
  },
  "language_info": {
   "codemirror_mode": {
    "name": "ipython",
    "version": 3
   },
   "file_extension": ".py",
   "mimetype": "text/x-python",
   "name": "python",
   "nbconvert_exporter": "python",
   "pygments_lexer": "ipython3",
   "version": "3.10.18"
  }
 },
 "nbformat": 4,
 "nbformat_minor": 5
}
